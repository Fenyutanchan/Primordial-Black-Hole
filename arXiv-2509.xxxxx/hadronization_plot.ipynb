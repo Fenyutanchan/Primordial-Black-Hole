{
 "cells": [
  {
   "cell_type": "markdown",
   "id": "8d08ab6b",
   "metadata": {},
   "source": [
    "Copyright (c) 2025 Quan-feng WU <wuquanfeng@ihep.ac.cn>\n",
    "\n",
    "This notebook is released under the [MIT License](https://opensource.org/licenses/MIT)."
   ]
  },
  {
   "cell_type": "markdown",
   "id": "4e2c65c1",
   "metadata": {},
   "source": [
    "# Preliminaries"
   ]
  },
  {
   "cell_type": "code",
   "execution_count": null,
   "id": "3d84de2e",
   "metadata": {},
   "outputs": [],
   "source": [
    "using CairoMakie\n",
    "using DataInterpolations\n",
    "using JLD2\n",
    "using LaTeXStrings"
   ]
  },
  {
   "cell_type": "code",
   "execution_count": null,
   "id": "b4d186e1",
   "metadata": {},
   "outputs": [],
   "source": [
    "set_theme!(theme_latexfonts())"
   ]
  },
  {
   "cell_type": "code",
   "execution_count": null,
   "id": "c6503f5b",
   "metadata": {},
   "outputs": [],
   "source": [
    "include(\"tool_script-directories.jl\");\n",
    "include(\"tool_script-geomspace.jl\");"
   ]
  },
  {
   "cell_type": "markdown",
   "id": "c318356a",
   "metadata": {},
   "source": [
    "# Load Data"
   ]
  },
  {
   "cell_type": "code",
   "execution_count": null,
   "id": "e4d64579",
   "metadata": {},
   "outputs": [],
   "source": [
    "up_data = load(joinpath(output_data_directory, \"table_up.jld2\"));\n",
    "gluon_data = load(joinpath(output_data_directory, \"table_gluon.jld2\"));"
   ]
  },
  {
   "cell_type": "code",
   "execution_count": null,
   "id": "a0e36562",
   "metadata": {},
   "outputs": [],
   "source": [
    "number_pion_from_up = (vec ∘ sum)(up_data[\"pipm\"], dims=2)\n",
    "number_pion_from_gluon = (vec ∘ sum)(gluon_data[\"pipm\"], dims=2)\n",
    "\n",
    "figure = Figure(fontsize=18)\n",
    "axis = Axis(figure[1, 1],\n",
    "    xlabel=L\"E_\\mathrm{init.} ~ [\\mathrm{GeV}]\",\n",
    "    ylabel=L\"N_{\\pi^\\pm}\",\n",
    "    xscale=log10, yscale=log10,\n",
    "    xminorgridvisible=true, yminorgridvisible=true,\n",
    "    xminorticks=IntervalsBetween(9),\n",
    "    yminorticks=IntervalsBetween(9),\n",
    "    yticks=(exp10.(1:10), [L\"10^{%$ii}\" for ii ∈ 1:10]),\n",
    ")\n",
    "\n",
    "lines!(axis, up_data[\"E [GeV] (initial)\"], number_pion_from_up; label=L\"From $u / \\bar{u}$\")\n",
    "lines!(axis, gluon_data[\"E [GeV] (initial)\"], number_pion_from_gluon; label=L\"From $g$\")\n",
    "axislegend(axis; position=:lt)\n",
    "# save(joinpath(plot_directory, \"number_of_pipm.pdf\"), figure)\n",
    "figure"
   ]
  }
 ],
 "metadata": {
  "kernelspec": {
   "display_name": "Julia 1.11.6",
   "language": "julia",
   "name": "julia-1.11"
  },
  "language_info": {
   "file_extension": ".jl",
   "mimetype": "application/julia",
   "name": "julia",
   "version": "1.11.6"
  }
 },
 "nbformat": 4,
 "nbformat_minor": 5
}
