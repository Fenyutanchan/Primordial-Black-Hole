{
 "cells": [
  {
   "cell_type": "markdown",
   "id": "2983aabb",
   "metadata": {},
   "source": [
    "Copyright (c) 2025 Quan-feng WU <wuquanfeng@ihep.ac.cn>\n",
    "\n",
    "This notebook is released under the [MIT License](https://opensource.org/licenses/MIT)."
   ]
  },
  {
   "cell_type": "markdown",
   "id": "79da52ab",
   "metadata": {},
   "source": [
    "# Preliminaries"
   ]
  },
  {
   "cell_type": "code",
   "execution_count": null,
   "id": "eb7242cb",
   "metadata": {},
   "outputs": [],
   "source": [
    "using CairoMakie\n",
    "using DelimitedFiles\n",
    "using Format\n",
    "using LaTeXStrings\n",
    "using SpecialFunctions\n",
    "using Statistics\n",
    "\n",
    "using NaturalUnits"
   ]
  },
  {
   "cell_type": "code",
   "execution_count": null,
   "id": "a77fd8c6",
   "metadata": {},
   "outputs": [],
   "source": [
    "set_theme!(theme_latexfonts())"
   ]
  },
  {
   "cell_type": "code",
   "execution_count": null,
   "id": "8d2ee7a7",
   "metadata": {},
   "outputs": [],
   "source": [
    "include(\"tool_script-directories.jl\")\n",
    "include(\"tool_script-BlackHawk_extension.jl\")\n",
    "include(\"tool_script-geomspace.jl\")\n",
    "include(\"tool_script-parameters.jl\")"
   ]
  },
  {
   "cell_type": "code",
   "execution_count": null,
   "id": "efdf16ff",
   "metadata": {},
   "outputs": [],
   "source": [
    "prepare_BlackHawk()"
   ]
  },
  {
   "cell_type": "markdown",
   "id": "f32eedeb",
   "metadata": {},
   "source": [
    "# Parameters for (Primordial) Black Holes"
   ]
  },
  {
   "cell_type": "code",
   "execution_count": null,
   "id": "d3d8b3b2",
   "metadata": {},
   "outputs": [],
   "source": [
    "γ_PBH = .2"
   ]
  },
  {
   "cell_type": "code",
   "execution_count": null,
   "id": "1f6ef2f3",
   "metadata": {},
   "outputs": [],
   "source": [
    "N_BH(T_BH) = (27 / 4) * N_ρ(T_BH) / (30720 * π)\n",
    "T_BH(m_BH) = NU.M_Pl^2 / m_BH\n",
    "t_PBH_formation(m_PBH) = m_PBH / (γ_PBH * NU.m_Pl^2)"
   ]
  },
  {
   "cell_type": "markdown",
   "id": "9a04d0da",
   "metadata": {},
   "source": [
    "# Benchmark"
   ]
  },
  {
   "cell_type": "code",
   "execution_count": null,
   "id": "1de40459",
   "metadata": {},
   "outputs": [],
   "source": [
    "m_PBH = 5e9 * NU.g\n",
    "t_PBH_f = t_PBH_formation(m_PBH)"
   ]
  },
  {
   "cell_type": "code",
   "execution_count": null,
   "id": "45ef83f6",
   "metadata": {},
   "outputs": [],
   "source": [
    "params = BlackHawkParameters()\n",
    "BlackHawk_result_directory = tempname(BlackHawk_results_directory)\n",
    "set_BlackHawk_name!(params, basename(BlackHawk_result_directory))\n",
    "set_BlackHawk_mass!(params, m_PBH; NU=NU)\n",
    "set_BlackHawk_energy_spectrum!(params, GeV(5), GeV(1e5), 100)\n",
    "close_BlackHawk_dark_matter!(params)\n",
    "set_BlackHawk_BBN!(params)"
   ]
  },
  {
   "cell_type": "code",
   "execution_count": null,
   "id": "adca7e2e",
   "metadata": {},
   "outputs": [],
   "source": [
    "run_BlackHawk_inst(params)"
   ]
  },
  {
   "cell_type": "code",
   "execution_count": null,
   "id": "ef3d6d77",
   "metadata": {},
   "outputs": [],
   "source": [
    "inst_primary_spectra, inst_secondary_spectra = read_BlackHawk_instantaneous_spectra(BlackHawk_result_directory)"
   ]
  },
  {
   "cell_type": "code",
   "execution_count": null,
   "id": "0f587466",
   "metadata": {},
   "outputs": [],
   "source": [
    "fig = Figure()\n",
    "ax_spectra = Axis(fig[1, 1];\n",
    "    title=L\"For $M_\\mathrm{PBH} = 5 \\times 10^9 ~ \\mathrm{g}$\",\n",
    "    xlabel=L\"E \\text{ [GeV]}\",\n",
    "    ylabel=L\"E \\frac{\\mathrm{d}^2 N}{\\mathrm{d}t ~ \\mathrm{d}E} ~ \\left[\\mathrm{sec}^{-1}\\right]\",\n",
    "    xscale=log10, yscale=log10,\n",
    "    limits=((1e-1, 5e4), (1e24, 2e28)),\n",
    "    xticks=(exp10.(-1:5), [L\"10^{%$ii}\" for ii in -1:5]),\n",
    ")\n",
    "lines!(ax_spectra, inst_primary_spectra[\"energy\"], inst_primary_spectra[\"energy\"] .* inst_primary_spectra[\"up\"]; label=L\"q / \\bar{q}\")\n",
    "lines!(ax_spectra, inst_secondary_spectra[\"energy\"], inst_secondary_spectra[\"energy\"] .* inst_secondary_spectra[\"pipm\"]; label=L\"\\pi^\\pm\")\n",
    "lines!(ax_spectra, inst_secondary_spectra[\"energy\"], inst_secondary_spectra[\"energy\"] .* inst_secondary_spectra[\"Kpm\"]; label=L\"K^\\pm\")\n",
    "lines!(ax_spectra, inst_secondary_spectra[\"energy\"], inst_secondary_spectra[\"energy\"] .* inst_secondary_spectra[\"K0L\"]; label=L\"K^0_\\mathrm{L}\")\n",
    "lines!(ax_spectra, inst_secondary_spectra[\"energy\"], inst_secondary_spectra[\"energy\"] .* inst_secondary_spectra[\"proton\"]; label=L\"p\")\n",
    "lines!(ax_spectra, inst_secondary_spectra[\"energy\"], inst_secondary_spectra[\"energy\"] .* inst_secondary_spectra[\"neutron\"]; label=L\"n\", linestyle=:dash)\n",
    "axislegend(ax_spectra; position=:rt, nbanks=2)\n",
    "\n",
    "# save(\"plots/BlackHawk_instantaneous_spectra_for_M5e9gram.pdf\", fig)\n",
    "fig"
   ]
  },
  {
   "cell_type": "markdown",
   "id": "caedfbc4",
   "metadata": {},
   "source": [
    "# Spectra"
   ]
  },
  {
   "cell_type": "code",
   "execution_count": null,
   "id": "caedfbc4",
   "metadata": {},
   "outputs": [],
   "source": [
    "m_PBH_list = geomspace(1e9, 4e12, 100) .* NU.g\n",
    "charged_pion_dN_over_dt_list = zeros(Float64, length(m_PBH_list))\n",
    "charged_kaon_dN_over_dt_list = zeros(Float64, length(m_PBH_list))\n",
    "kaon_zero_long_dN_over_dt_list = zeros(Float64, length(m_PBH_list))\n",
    "\n",
    "# plot_indices = []\n",
    "plot_indices = [1, 50, 100]\n",
    "ii_plot = 1\n",
    "fig = Figure(size=(600, 450 * (length(plot_indices) + 1)), fontsize=18)\n",
    "for (ii, m_PBH) ∈ enumerate(m_PBH_list)\n",
    "    params = BlackHawkParameters()\n",
    "    BlackHawk_result_directory = tempname(BlackHawk_results_directory)\n",
    "    set_BlackHawk_name!(params, basename(BlackHawk_result_directory))\n",
    "    set_BlackHawk_mass!(params, m_PBH; NU=NU)\n",
    "    set_BlackHawk_energy_spectrum!(params, GeV(5), GeV(1e5), 100)\n",
    "    close_BlackHawk_dark_matter!(params)\n",
    "    set_BlackHawk_BBN!(params)\n",
    "\n",
    "    run_BlackHawk_inst(params)\n",
    "\n",
    "    inst_primary_spectra, inst_secondary_spectra = read_BlackHawk_instantaneous_spectra(BlackHawk_result_directory)\n",
    "\n",
    "\n",
    "    integrand_list = inst_secondary_spectra[\"energy\"] .* inst_secondary_spectra[\"pipm\"]\n",
    "    h = mean(\n",
    "        log.(inst_secondary_spectra[\"energy\"][begin+1:end]) .-\n",
    "        log.(inst_secondary_spectra[\"energy\"][begin:end-1])\n",
    "    )\n",
    "    charged_pion_dN_over_dt_list[ii] = (h / 2) * (\n",
    "        2 * sum(integrand_list) - (first(integrand_list) + last(integrand_list))\n",
    "    )\n",
    "    charged_kaon_dN_over_dt_list[ii] = (h / 2) * (\n",
    "        2 * sum(inst_secondary_spectra[\"energy\"] .* inst_secondary_spectra[\"Kpm\"]) - \n",
    "        (first(inst_secondary_spectra[\"energy\"] .* inst_secondary_spectra[\"Kpm\"]) + last(inst_secondary_spectra[\"energy\"] .* inst_secondary_spectra[\"Kpm\"]))\n",
    "    )\n",
    "    kaon_zero_long_dN_over_dt_list[ii] = (h / 2) * (\n",
    "        2 * sum(inst_secondary_spectra[\"energy\"] .* inst_secondary_spectra[\"K0L\"]) - \n",
    "        (first(inst_secondary_spectra[\"energy\"] .* inst_secondary_spectra[\"K0L\"]) + last(inst_secondary_spectra[\"energy\"] .* inst_secondary_spectra[\"K0L\"]))\n",
    "    )\n",
    "\n",
    "    if ii ∈ plot_indices\n",
    "        m_in_gram = m_PBH / NU.g\n",
    "        exponent_10 = (Int ∘ floor ∘ log10)(m_in_gram)\n",
    "        coeff_10 = m_in_gram / 10^exponent_10\n",
    "        m_str = \"$(cfmt(\"%.2f\", coeff_10)) \\\\times 10^{$(exponent_10)} ~ \\\\mathrm{g}\"\n",
    "        ax_spectra = Axis(fig[ii_plot+1, 1];\n",
    "            title=L\"For $M_\\mathrm{PBH} = %$m_str$\",\n",
    "            xlabel=L\"E \\text{ [GeV]}\",\n",
    "            ylabel=L\"E \\frac{\\mathrm{d}^2 N}{\\mathrm{d}t ~ \\mathrm{d}E} ~ \\left[\\mathrm{sec}^{-1}\\right]\",\n",
    "            yticks=(exp10.(20:30), [L\"10^{%$ii}\" for ii ∈ 20:30]),\n",
    "            xscale=log10, yscale=log10,\n",
    "            limits=((1e-1, 1e5), (1e20, 1e30))\n",
    "        )\n",
    "        lines!(ax_spectra, inst_primary_spectra[\"energy\"], inst_primary_spectra[\"energy\"] .* inst_primary_spectra[\"up\"]; label=L\"q / \\bar{q}\")\n",
    "        lines!(ax_spectra, inst_secondary_spectra[\"energy\"], inst_secondary_spectra[\"energy\"] .* inst_secondary_spectra[\"pipm\"]; label=L\"\\pi^\\pm\")\n",
    "        lines!(ax_spectra, inst_secondary_spectra[\"energy\"], inst_secondary_spectra[\"energy\"] .* inst_secondary_spectra[\"Kpm\"]; label=L\"K^\\pm\")\n",
    "        lines!(ax_spectra, inst_secondary_spectra[\"energy\"], inst_secondary_spectra[\"energy\"] .* inst_secondary_spectra[\"K0L\"]; label=L\"K^0_\\mathrm{L}\")\n",
    "        axislegend(ax_spectra, position=:rt)\n",
    "\n",
    "        ii_plot += 1\n",
    "    end\n",
    "end\n",
    "\n",
    "ax_n = Axis(fig[1, 1];\n",
    "    title=L\"$\\mathrm{d} N / \\mathrm{d} t$ v.s. $M_\\mathrm{PBH}$\",\n",
    "    xlabel=L\"M_\\mathrm{PBH} \\text{ [g]}\",\n",
    "    ylabel=L\"\\frac{\\mathrm{d} N}{\\mathrm{d} t} ~ \\left[\\mathrm{sec}^{-1}\\right]\",\n",
    "    xscale=log10, yscale=log10,\n",
    "    yticks=(exp10.(10:35), [L\"10^{%$ii}\" for ii ∈ 10:35]),\n",
    "    limits=((1e9, 4e12), nothing)\n",
    ")\n",
    "lines!(ax_n, m_PBH_list ./ NU.g, charged_pion_dN_over_dt_list; label=L\"\\pi^\\pm\")\n",
    "lines!(ax_n, m_PBH_list ./ NU.g, charged_kaon_dN_over_dt_list; label=L\"K^\\pm\")\n",
    "lines!(ax_n, m_PBH_list ./ NU.g, kaon_zero_long_dN_over_dt_list; label=L\"K^0_\\mathrm{L}\")\n",
    "axislegend(ax_n; position=:rt)\n",
    "\n",
    "# save(\"plots/dNdt_vs_M_PBH.pdf\", fig)\n",
    "fig"
   ]
  },
  {
   "cell_type": "code",
   "execution_count": null,
   "id": "c60ff86d",
   "metadata": {},
   "outputs": [],
   "source": [
    "open(joinpath(output_data_directory, \"mesons_from_PBH.dat\"), \"w+\") do io\n",
    "    write(io, \"m_PBH [GeV]\\tcharged_pion_dN_over_dt [GeV]\\tcharged_kaon_dN_over_dt [GeV]\\tkaon_zero_long_dN_over_dt [GeV]\\n\")\n",
    "    writedlm(io,\n",
    "        hcat(EUval.(GeV, m_PBH_list),\n",
    "            EUval.(GeV, charged_pion_dN_over_dt_list ./ NU.s),\n",
    "            EUval.(GeV, charged_kaon_dN_over_dt_list ./ NU.s),\n",
    "            EUval.(GeV, kaon_zero_long_dN_over_dt_list ./ NU.s)\n",
    "        )\n",
    "    )\n",
    "end"
   ]
  }
 ],
 "metadata": {
  "kernelspec": {
   "display_name": "Julia 1.11.6",
   "language": "julia",
   "name": "julia-1.11"
  },
  "language_info": {
   "file_extension": ".jl",
   "mimetype": "application/julia",
   "name": "julia",
   "version": "1.11.6"
  }
 },
 "nbformat": 4,
 "nbformat_minor": 5
}
